{
  "cells": [
    {
      "cell_type": "code",
      "execution_count": 1,
      "metadata": {
        "id": "uDX0L8OUcXcq"
      },
      "outputs": [],
      "source": [
        "import numpy as np\n",
        "from scipy.special import hermite\n",
        "import torch\n",
        "import torch.nn as nn\n",
        "import torch.optim as optim\n",
        "import torch.nn.functional as functional\n",
        "\n",
        "import matplotlib.pyplot as plt\n",
        "\n",
        "\n",
        "\n",
        "import scipy.stats"
      ]
    },
    {
      "cell_type": "code",
      "execution_count": 3,
      "metadata": {
        "id": "CRCYHiQ5cZ6u"
      },
      "outputs": [],
      "source": [
        "\n",
        "class BlackScholesModel:\n",
        "    def __init__(self, size, r, rho, sigma, divid, spot):\n",
        "        self.size = size\n",
        "        self.r = r\n",
        "        self.rho = rho\n",
        "        self.sigma = sigma\n",
        "        self.divid = divid\n",
        "        self.spot = spot\n",
        "        self.cholesky = np.linalg.cholesky(\n",
        "            np.eye(size) + rho * (np.ones((size, size)) - np.eye(size))\n",
        "        )\n",
        "\n",
        "\n",
        "    def asset(self, T, dates):\n",
        "        \"\"\"Generates paths for the asset prices based on the Black-Scholes model.\"\"\"\n",
        "\n",
        "        time_step = T / dates\n",
        "        gaussian = np.random.normal(size=(dates+1, self.size))\n",
        "        path = np.zeros((dates+1, self.size))\n",
        "        path[0] = self.spot\n",
        "        expo = np.exp((self.r - self.divid - np.square(self.sigma) / 2) * time_step)\n",
        "        for i in range(1, dates + 1):\n",
        "            for d in range(self.size):\n",
        "                scale_cholesky_gaussian = np.dot(self.cholesky[d, :], gaussian[i])\n",
        "                computed_share = path[i - 1, d] * expo[d] * np.exp(self.sigma[d] * np.sqrt(time_step) * scale_cholesky_gaussian)\n",
        "                path[i, d] = computed_share\n",
        "        return path\n",
        "\n",
        "\n",
        "    def asset_conditionally(self, T, dates, n, stocks):\n",
        "        \"\"\"\"Generates paths for the asset prices based on the Black-Scholes model, conditional on the current stock prices at time n.\"\"\"\n",
        "        gaussian = np.random.normal(size=(dates+1-n, self.size))\n",
        "        path = np.zeros((dates + 1 - n, self.size))\n",
        "        path[0] = stocks\n",
        "        for i in range(n + 1, dates + 1):\n",
        "            time_step = (i - n) * T / float(dates)\n",
        "            expo = np.exp((self.r - self.divid - np.square(self.sigma) / 2) * time_step)\n",
        "            for d in range(self.size):\n",
        "                scale_cholesky_gaussian = np.dot(self.cholesky[d, :], gaussian[i - n])\n",
        "                computed_share = stocks[d] * expo[d] * np.exp(self.sigma[d] * np.sqrt(time_step) * scale_cholesky_gaussian)\n",
        "                path[i - n, d] = computed_share\n",
        "        return path\n",
        "\n",
        "\n",
        "\n",
        "class Max_call_option:\n",
        "    def __init__(self, T, dates, size, strike):\n",
        "        self.T = T\n",
        "        self.dates = dates\n",
        "        self.size = size\n",
        "        self.strike = strike\n",
        "\n",
        "    def payoff(self, pricesAt, n, r):\n",
        "        price = max(pricesAt)\n",
        "        payoff = price - self.strike\n",
        "        return np.exp(-r * n  * self.T / float(self.dates)) * payoff if payoff > 0 else 0\n",
        "\n",
        "\n",
        "        "
      ]
    },
    {
      "cell_type": "markdown",
      "metadata": {
        "id": "KCJQeO-cWtD6"
      },
      "source": [
        "Now that the asset model has been defined, the next step consists of defining a neural network architecture, optimizing the weights and training the network."
      ]
    },
    {
      "cell_type": "code",
      "execution_count": 32,
      "metadata": {
        "id": "XDO7_hxghuRh"
      },
      "outputs": [],
      "source": [
        "class NeuralNet(torch.nn.Module):\n",
        "    def __init__(self, d, q1, q2):\n",
        "        super(NeuralNet, self).__init__()\n",
        "        self.net = nn.Sequential(\n",
        "            nn.Linear(d, q1),\n",
        "            nn.ReLU(),\n",
        "            nn.Linear(q1, q2),\n",
        "            nn.ReLU(),\n",
        "            nn.Linear(q2, 1),\n",
        "            nn.Sigmoid()\n",
        "        )\n",
        "\n",
        "    def forward(self, x):\n",
        "        propagation = self.net(x)\n",
        "        return propagation\n",
        "\n",
        "\n",
        "class Neural_Network_Pricer:\n",
        "    def __init__(self, mod, opt, nb_samples, epochs=100):\n",
        "        self.mod = mod\n",
        "        self.opt = opt\n",
        "        self.nb_samples = nb_samples\n",
        "        #self.network = network\n",
        "        self.epochs = epochs\n",
        "\n",
        "\n",
        "    def simulate_samples(self, rounds):\n",
        "        samples = []\n",
        "        for _ in range(rounds):\n",
        "            path = self.mod.asset(self.opt.T, self.opt.dates)\n",
        "            samples.append(path)\n",
        "        fitted = np.stack([samples[round] for round in range(len(samples))], axis=1)\n",
        "        return torch.FloatTensor(fitted)\n",
        "    \n",
        "        \n",
        "\n",
        "    def simulate_conditionally(self, n, samples, J):\n",
        "        z_n = []\n",
        "        for stocks in samples[n]:\n",
        "            all_continuations = []\n",
        "            for _ in range(J):\n",
        "                continuation = self.mod.asset_conditionally(self.opt.T, self.opt.dates, n, stocks)\n",
        "                all_continuations.append(continuation)\n",
        "            z_n.append(all_continuations)\n",
        "        return np.array(z_n)\n",
        "\n",
        "\n",
        "\n",
        "\n",
        "    def initiate_values(self, samples):\n",
        "        \"\"\"Initiates the option values at date N before backward computing\"\"\"\n",
        "        values = np.zeros((self.opt.dates + 1, self.nb_samples))\n",
        "        for round in range(len(samples)):\n",
        "            values[self.opt.dates, round] = self.opt.payoff(samples[self.opt.dates][round], self.opt.dates, self.mod.r)\n",
        "        return values\n",
        "\n",
        "\n",
        "\n",
        "    def train(self, samples):\n",
        "        \"\"\"Trains the neural network models for the optimal stopping problem, using the input samples.\"\"\"\n",
        "        f = np.zeros((self.opt.dates + 1, self.nb_samples))\n",
        "        stopping = np.array([self.opt.dates for _ in range(self.nb_samples)])\n",
        "        f[self.opt.dates, :] = 1\n",
        "        trained_models = [None] * self.opt.dates\n",
        "        losses = []\n",
        "        for n in range(self.opt.dates - 1, -1, -1):\n",
        "            neural_network = NeuralNet(self.mod.size, self.mod.size + 40, self.mod.size + 40)\n",
        "            optimizer = torch.optim.Adam(neural_network.parameters(), lr = 0.0001)\n",
        "            for epoch in range(self.epochs):\n",
        "                F = neural_network.forward(samples[n])\n",
        "                optimizer.zero_grad()\n",
        "                reward = torch.zeros((self.nb_samples))\n",
        "                for round in range(self.nb_samples):\n",
        "                    reward[round] = -self.opt.payoff(samples[n][round], n, self.mod.r) * F[round] - self.opt.payoff(samples[int(stopping[round])][round], stopping[round], self.mod.r) * (1 - F[round])\n",
        "                back_propagation_reward = reward.mean()\n",
        "                back_propagation_reward.backward()\n",
        "                optimizer.step() \n",
        "            trained_models[n] = neural_network\n",
        "            adjusted_F = F.detach().numpy().reshape(self.nb_samples)\n",
        "            f[n, :] = (adjusted_F > 0.5).astype(float)\n",
        "            stopping = np.array([max(range(len(f[:,col])), key=lambda row: f[row,col]) for col in range(f.shape[1])])\n",
        "            losses.append((np.min(adjusted_F) + np.max(adjusted_F))/2)\n",
        "            print('n = {}, losses : {}'.format(n, losses[-1]))\n",
        "        #plt.plot(losses[1:])\n",
        "        #plt.title(\"Training Loss Over Time\")\n",
        "        #plt.xlabel(\"Dates\")\n",
        "        #plt.ylabel(\"Loss\")\n",
        "        #plt.show()\n",
        "        return trained_models\n",
        "\n",
        "      \n"
      ]
    },
    {
      "cell_type": "markdown",
      "metadata": {
        "id": "YOhR4DtAVr5P"
      },
      "source": [
        "Learning and loss computing has been establish. Next step : computing the lower bound, the upper bound and the point estimate for a trained neural network pricer."
      ]
    },
    {
      "cell_type": "code",
      "execution_count": 21,
      "metadata": {
        "id": "Llsdi0K0Vo1q"
      },
      "outputs": [],
      "source": [
        "\n",
        "def predict_values(pricer, samples, trained_models):\n",
        "        \"\"\" Computes the predicted mean of all simulated payoffs at corresponding stopping times. Useful for lower bound.\"\"\"\n",
        "        f = np.zeros((pricer.opt.dates + 1, len(samples[0])))\n",
        "        stopping = np.array([pricer.opt.dates for _ in range(len(samples[0]))])\n",
        "        f[pricer.opt.dates, :] = 1\n",
        "        values = pricer.initiate_values(samples)\n",
        "        for n in range(pricer.opt.dates - 1, -1, -1):\n",
        "            network = trained_models[n]\n",
        "            F = network(samples[n])\n",
        "            adjusted_F = F.detach().numpy().reshape(len(samples[0]))\n",
        "            f[n, :] = (adjusted_F > 0.5).astype(float)\n",
        "            stopping = np.array([max(range(len(f[:,col])), key=lambda row: f[row,col]) for col in range(f.shape[1])])\n",
        "            for round in range(len(samples[0])):\n",
        "                values[n, round] = np.exp((pricer.mod.r * pricer.opt.T / float(pricer.opt.dates)) * (stopping[round] - n)) * pricer.opt.payoff(samples[int(stopping[round])][round], stopping[round], pricer.mod.r)\n",
        "        return values, f\n",
        "    \n",
        "\n",
        "def compute_lower_bound(pricer, trained_models):\n",
        "    \"\"\" Uses the predicted mean of all simulated payoffs at corresponding stopping times to compute the lower bound.\"\"\"\n",
        "    samples = pricer.simulate_samples(pricer.nb_samples)\n",
        "    values = predict_values(pricer, samples, trained_models)[0]\n",
        "    lower_bound = np.mean(values, axis=1)\n",
        "    return lower_bound[0]\n",
        "\n",
        "\n",
        "\n",
        "def doob_increments(noise, doob):\n",
        "    \"\"\"Computes the incrementation for the doob matrix.\"\"\"\n",
        "    for i in range(len(doob)):\n",
        "        for j in range(len(doob[0])):\n",
        "            if i == 0:\n",
        "                doob[i, j] = noise[i, j]\n",
        "            else:\n",
        "                doob[i, j] = doob[i - 1, j] + noise[i, j]\n",
        "\n",
        "def get_proper_continuation(z_n, m, round, J):\n",
        "    \"\"\"Extracts the current conditionally simulated trajectory\"\"\"\n",
        "    z_n_m = []\n",
        "    for j in range(J):\n",
        "        z_n_m.append(z_n[round][j][m])\n",
        "    return torch.from_numpy(np.array(z_n_m)).float()\n",
        "\n",
        "\n",
        "\n",
        "\n",
        "def compute_upper_bound(pricer, trained_models, Ku, J):\n",
        "    \"\"\"Computes the upper bound for the expected payoff using the Doob-Meyer decomposition.\"\"\"\n",
        "    z = pricer.simulate_samples(Ku)\n",
        "    f = np.array([np.zeros((pricer.opt.dates + 1, J)) for _ in range(Ku)])\n",
        "    f_theta = np.zeros((pricer.opt.dates + 1, Ku)) \n",
        "    stopping = np.array([np.zeros((pricer.opt.dates + 1, J)) for _ in range(Ku)])\n",
        "    for round in range(Ku):\n",
        "        f[round][pricer.opt.dates, :] = 1\n",
        "        stopping[round][pricer.opt.dates, :] = pricer.opt.dates\n",
        "    f_theta[pricer.opt.dates, :] = 1\n",
        "    noisy_estimates = np.zeros((pricer.opt.dates + 1, Ku))\n",
        "    doob = np.zeros((pricer.opt.dates + 1, Ku))\n",
        "    z_N = pricer.simulate_conditionally(pricer.opt.dates, z, J)\n",
        "    current_C = torch.from_numpy(np.array([np.mean(np.array([pricer.opt.payoff(z_N[round][j][-1], pricer.opt.dates, pricer.mod.r) for j in range(J)])) for round in range(Ku)]))\n",
        "    \n",
        "    for n in range(pricer.opt.dates - 1, -1, -1):\n",
        "        z_n = pricer.simulate_conditionally(n, z, J)\n",
        "        #fitted_z_n = torch.from_numpy(np.stack([z_n[round] for round in range(len(z_n))], axis=1))\n",
        "        network = trained_models[n]\n",
        "        F = network(z[n])\n",
        "        adjusted_F = F.detach().numpy().reshape(Ku)\n",
        "        f_theta = np.zeros((pricer.opt.dates + 1, Ku))\n",
        "        f_theta[n, :] = (adjusted_F > 0.5).astype(float)\n",
        "        for m in range(n, pricer.opt.dates):\n",
        "            network = trained_models[m]\n",
        "            for round in range(Ku):\n",
        "                z_n_m = get_proper_continuation(z_n, m - n, round, J)\n",
        "                F = network(z_n_m)\n",
        "                adjusted_F = F.detach().numpy().reshape(J)\n",
        "                f[round][m, :] = (adjusted_F > 0.5).astype(float)\n",
        "                stopping[round][m, :] = np.array([max(range(len(f[round][:,col])), key=lambda row: f[round][row,col]) for col in range(f[round].shape[1])])\n",
        "        previous_C = current_C\n",
        "        current_C = torch.from_numpy(np.array([np.mean(np.array([pricer.opt.payoff(z_n[round][j][int(stopping[round][n + 1, j]) - n], stopping[round][n + 1, j], pricer.mod.r) for j in range(J)])) for round in range(Ku)]))\n",
        "        for round in range(Ku):\n",
        "            noisy_estimates[n + 1, round] = f_theta[n + 1, round] * pricer.opt.payoff(z[n + 1][round], n + 1, pricer.mod.r)  + (1 - f_theta[n + 1, round]) * previous_C[round] - current_C[round]\n",
        "    \n",
        "    doob_increments(noisy_estimates, doob)\n",
        "    upper = np.array([[pricer.opt.payoff(z[n][round], n, pricer.mod.r) - doob[n, round] for round in range(Ku)] for n in range(pricer.opt.dates + 1)])\n",
        "    maxed_upper = np.amax(upper, axis=0)\n",
        "    return np.mean(maxed_upper)\n"
      ]
    },
    {
      "cell_type": "markdown",
      "metadata": {
        "id": "NRDBCKBjVXu0"
      },
      "source": [
        "## Model definition\n"
      ]
    },
    {
      "cell_type": "code",
      "execution_count": 35,
      "metadata": {
        "colab": {
          "base_uri": "https://localhost:8080/",
          "height": 628
        },
        "id": "8IcjjKb2C0Xd",
        "outputId": "1c004895-d191-4720-d0df-4aeaaec76734"
      },
      "outputs": [
        {
          "name": "stdout",
          "output_type": "stream",
          "text": [
            "n = 8, losses : 0.2618435025215149\n",
            "n = 7, losses : 0.0004111065936740488\n",
            "n = 6, losses : 0.4948141872882843\n",
            "n = 5, losses : 0.45254191756248474\n",
            "n = 4, losses : 0.002587599214166403\n",
            "n = 3, losses : 0.024152621626853943\n",
            "n = 2, losses : 0.020068170502781868\n",
            "n = 1, losses : 0.015693658962845802\n",
            "n = 0, losses : 0.002867746166884899\n"
          ]
        },
        {
          "data": {
            "image/png": "[encoded data removed]",
            "text/plain": [
              "<Figure size 640x480 with 1 Axes>"
            ]
          },
          "metadata": {},
          "output_type": "display_data"
        }
      ],
      "source": [
        "\n",
        "    \n",
        "\n",
        "# Model parameters\n",
        "T = 3\n",
        "dates = 9\n",
        "\n",
        "size = 2\n",
        "r = 0.05\n",
        "rho = 0\n",
        "strike = 100\n",
        "sigma = np.array(size * [0.2])\n",
        "divid = np.array(size * [0.1])\n",
        "spot = np.array(size * [90])\n",
        "\n",
        "model = BlackScholesModel(size, r, rho, sigma, divid, spot)\n",
        "option = Max_call_option(T, dates, size, strike)\n",
        "\n",
        "nb_samples = 1000\n",
        "\n",
        "epochs = 100\n",
        "\n",
        "# Instantiate neural network\n",
        "pricer = Neural_Network_Pricer(model, option, nb_samples, epochs)\n",
        "training_samples = pricer.simulate_samples(pricer.nb_samples)\n",
        "trained_models = pricer.train(training_samples)\n"
      ]
    },
    {
      "cell_type": "markdown",
      "metadata": {
        "id": "E6X2J9LsWPce"
      },
      "source": [
        "The model is now trained. "
      ]
    },
    {
      "cell_type": "code",
      "execution_count": 11,
      "metadata": {
        "colab": {
          "base_uri": "https://localhost:8080/"
        },
        "id": "22O5OdpM_2XJ",
        "outputId": "29b9923c-23f2-4945-ebed-c700d65ff3ee"
      },
      "outputs": [
        {
          "name": "stdout",
          "output_type": "stream",
          "text": [
            "5.307470426440239 7.525725878721344 6.416598152580791\n"
          ]
        }
      ],
      "source": [
        "Ku = 1024\n",
        "J = 10\n",
        "\n",
        "lower_bound = compute_lower_bound(pricer, trained_models)\n",
        "\n",
        "upper_bound = compute_upper_bound(pricer, trained_models, Ku, J)\n",
        "\n",
        "print(lower_bound, upper_bound, (lower_bound + upper_bound)/2)"
      ]
    },
    {
      "cell_type": "markdown",
      "metadata": {
        "id": "smF-l7i1WWeg"
      },
      "source": [
        "## Testing + resetting"
      ]
    },
    {
      "cell_type": "markdown",
      "metadata": {
        "id": "5GtS0BJDWb87"
      },
      "source": [
        "Several test cases will be generated, while comparing them to the article's results."
      ]
    },
    {
      "cell_type": "code",
      "execution_count": null,
      "metadata": {
        "colab": {
          "base_uri": "https://localhost:8080/"
        },
        "id": "BjiEKrrxVS3z",
        "outputId": "c3f782da-9e15-448f-935c-061ef6621bc3"
      },
      "outputs": [
        {
          "name": "stdout",
          "output_type": "stream",
          "text": [
            "n = 8, losses : 0.5000083446502686\n",
            "n = 7, losses : 0.5049995183944702\n",
            "n = 6, losses : 0.0211415383964777\n",
            "n = 5, losses : 0.49918392300605774\n",
            "n = 4, losses : 0.4978744685649872\n",
            "n = 3, losses : 0.3023494780063629\n",
            "n = 2, losses : 0.00859603937715292\n",
            "n = 1, losses : 1.662284012127202e-05\n",
            "n = 0, losses : 0.0015441227005794644\n",
            "n = 8, losses : 0.08373884856700897\n",
            "n = 7, losses : 0.021322011947631836\n",
            "n = 6, losses : 0.45088326930999756\n",
            "n = 5, losses : 0.4972057044506073\n",
            "n = 4, losses : 0.03288450092077255\n",
            "n = 3, losses : 0.012143447063863277\n",
            "n = 2, losses : 0.46778345108032227\n",
            "n = 1, losses : 0.05023157224059105\n",
            "n = 0, losses : 0.004437513183802366\n",
            "n = 8, losses : 0.4994964897632599\n",
            "n = 7, losses : 0.49942150712013245\n",
            "n = 6, losses : 0.23826858401298523\n",
            "n = 5, losses : 0.08523745834827423\n",
            "n = 4, losses : 0.009950888343155384\n",
            "n = 3, losses : 0.14806559681892395\n",
            "n = 2, losses : 0.010606487281620502\n",
            "n = 1, losses : 0.0004447714309208095\n",
            "n = 0, losses : 1.5398244102016179e-07\n",
            "n = 8, losses : 0.4982598125934601\n",
            "n = 7, losses : 0.49818095564842224\n",
            "n = 6, losses : 0.49955132603645325\n",
            "n = 5, losses : 0.03216727450489998\n",
            "n = 4, losses : 2.041649196371509e-07\n",
            "n = 3, losses : 0.009121235460042953\n",
            "n = 2, losses : 0.01917898654937744\n",
            "n = 1, losses : 3.8192929374680773e-10\n",
            "n = 0, losses : 0.000596327125094831\n",
            "{2: (8.521579367045675, 7.653922143697739, 8.087750755371706), 3: (13.311717359146527, 11.398883963525295, 12.35530066133591), 5: (18.918572031716884, 18.384732124407776, 18.65165207806233), 10: (28.804421045512836, 28.24448200570047, 28.52445152560665)}\n"
          ]
        }
      ],
      "source": [
        "Ku = 1024\n",
        "J = 10\n",
        "nb_samples = 1000\n",
        "\n",
        "r = 0.05\n",
        "rho = 0\n",
        "strike = 100\n",
        "sizes = [2, 3, 5, 10]\n",
        "\n",
        "spot_list = [90, 100, 110]\n",
        "\n",
        "epochs = 50\n",
        "\n",
        "results = {}\n",
        "for size in sizes:\n",
        "    sigma = np.array(size * [0.2])\n",
        "    divid = np.array(size * [0.1])\n",
        "    spot = np.array(size * [90])\n",
        "    model = BlackScholesModel(size, r, rho, sigma, divid, spot)\n",
        "    option = Max_call_option(T, dates, size, strike)\n",
        "    # Instantiate neural network\n",
        "    pricer = Neural_Network_Pricer(model, option, nb_samples, epochs)\n",
        "    training_samples = pricer.simulate_samples(pricer.nb_samples)\n",
        "    trained_models = pricer.train(training_samples)\n",
        "    lower_bound = compute_lower_bound(pricer, trained_models)\n",
        "    upper_bound = compute_upper_bound(pricer, trained_models, Ku, J)\n",
        "    results[size] = (lower_bound, upper_bound, (lower_bound + upper_bound)/2)\n",
        "\n",
        "print(results)\n",
        "\n",
        "\n",
        "\n",
        "    "
      ]
    },
    {
      "cell_type": "code",
      "execution_count": null,
      "metadata": {
        "colab": {
          "base_uri": "https://localhost:8080/"
        },
        "id": "ADkLyD_ypb05",
        "outputId": "62c9e93d-2bcd-4f2b-c750-b5884cb49b71"
      },
      "outputs": [
        {
          "name": "stdout",
          "output_type": "stream",
          "text": [
            "n = 8, losses : 0.033169180154800415\n",
            "n = 7, losses : 0.4998258352279663\n",
            "n = 6, losses : 0.4833296537399292\n",
            "n = 5, losses : 1.5649405327167187e-08\n",
            "n = 4, losses : 0.044039420783519745\n",
            "n = 3, losses : 0.008321481756865978\n",
            "n = 2, losses : 0.011700129136443138\n",
            "n = 1, losses : 0.0005841527599841356\n",
            "n = 0, losses : 0.00047164910938590765\n",
            "n = 8, losses : 0.48578232526779175\n",
            "n = 7, losses : 1.4796819414186757e-07\n",
            "n = 6, losses : 0.00679620960727334\n",
            "n = 5, losses : 0.4952402412891388\n",
            "n = 4, losses : 0.0047157397493720055\n",
            "n = 3, losses : 0.00013559250510297716\n",
            "n = 2, losses : 0.0013486298266798258\n",
            "n = 1, losses : 0.00041310160304419696\n",
            "n = 0, losses : 0.00011968493345193565\n",
            "n = 8, losses : 0.0007387041696347296\n",
            "n = 7, losses : 0.006351165473461151\n",
            "n = 6, losses : 0.0007318302523344755\n",
            "n = 5, losses : 0.0007506207330152392\n",
            "n = 4, losses : 3.479527367744595e-05\n",
            "n = 3, losses : 0.0003611064166761935\n",
            "n = 2, losses : 0.0001467321126256138\n",
            "n = 1, losses : 0.0004859223263338208\n",
            "n = 0, losses : 1.358863414679945e-06\n",
            "{20: (41.53224002718925, 40.20923252789455, 40.8707362775419), 30: (50.69848001194, 47.521320752078964, 49.109900382009485), 50: (60.84587469148636, 56.47603452205658, 58.66095460677147)}\n"
          ]
        }
      ],
      "source": [
        "Ku = 1024\n",
        "J = 10\n",
        "nb_samples = 1000\n",
        "\n",
        "r = 0.05\n",
        "rho = 0\n",
        "strike = 100\n",
        "sizes = [20, 30, 50]\n",
        "\n",
        "spot_list = [90, 100, 110]\n",
        "\n",
        "epochs = 50\n",
        "\n",
        "results = {}\n",
        "for size in sizes:\n",
        "    sigma = np.array(size * [0.2])\n",
        "    divid = np.array(size * [0.1])\n",
        "    spot = np.array(size * [90])\n",
        "    model = BlackScholesModel(size, r, rho, sigma, divid, spot)\n",
        "    option = Max_call_option(T, dates, size, strike)\n",
        "    # Instantiate neural network\n",
        "    pricer = Neural_Network_Pricer(model, option, nb_samples, epochs)\n",
        "    training_samples = pricer.simulate_samples(pricer.nb_samples)\n",
        "    trained_models = pricer.train(training_samples)\n",
        "    lower_bound = compute_lower_bound(pricer, trained_models)\n",
        "    upper_bound = compute_upper_bound(pricer, trained_models, Ku, J)\n",
        "    results[size] = (lower_bound, upper_bound, (lower_bound + upper_bound)/2)\n",
        "\n",
        "print(results)"
      ]
    }
  ],
  "metadata": {
    "colab": {
      "provenance": []
    },
    "kernelspec": {
      "display_name": "Python 3",
      "name": "python3"
    },
    "language_info": {
      "name": "python"
    }
  },
  "nbformat": 4,
  "nbformat_minor": 0
}
